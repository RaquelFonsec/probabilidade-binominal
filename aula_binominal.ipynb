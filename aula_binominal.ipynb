{
  "nbformat": 4,
  "nbformat_minor": 0,
  "metadata": {
    "colab": {
      "provenance": [],
      "authorship_tag": "ABX9TyMz27mp5f/8ZwbB1yPrKNYE",
      "include_colab_link": true
    },
    "kernelspec": {
      "name": "python3",
      "display_name": "Python 3"
    },
    "language_info": {
      "name": "python"
    }
  },
  "cells": [
    {
      "cell_type": "markdown",
      "metadata": {
        "id": "view-in-github",
        "colab_type": "text"
      },
      "source": [
        "<a href=\"https://colab.research.google.com/github/RaquelFonsec/probabilidade-binominal/blob/main/aula_binominal.ipynb\" target=\"_parent\"><img src=\"https://colab.research.google.com/assets/colab-badge.svg\" alt=\"Open In Colab\"/></a>"
      ]
    },
    {
      "cell_type": "markdown",
      "source": [
        "1)        5% dos motoristas de caminhões brasileiros são mulheres. Numa amostra de 10 motoristas, qual a probabilidade de:\n",
        "a.         2 dos motoristas da amostra serem mulheres;\n",
        "b.         nenhum dos motoristas da amostra serem mulheres;\n",
        "c.         pelo menos 1 dos motoristas da amostra ser mulher;"
      ],
      "metadata": {
        "id": "l13jGha2xBHN"
      }
    },
    {
      "cell_type": "code",
      "source": [
        "import scipy.stats as stats\n",
        "\n",
        "# Definição dos parâmetros\n",
        "n = 10  # número de motoristas\n",
        "p = 0.05  # probabilidade de um motorista ser mulher\n",
        "\n",
        "# a) P(X = 2)\n",
        "p_x_2 = stats.binom.pmf(2, n, p)\n",
        "\n",
        "# b) P(X = 0)\n",
        "p_x_0 = stats.binom.pmf(0, n, p)\n",
        "\n",
        "# c) P(X ≥ 1) = 1 - P(X = 0)\n",
        "p_x_geq_1 = 1 - p_x_0\n",
        "\n",
        "# Exibir os resultados\n",
        "print(f\"a) P(X = 2): {p_x_2:.4f} ({p_x_2*100:.2f}%)\")\n",
        "print(f\"b) P(X = 0): {p_x_0:.4f} ({p_x_0*100:.2f}%)\")\n",
        "print(f\"c) P(X ≥ 1): {p_x_geq_1:.4f} ({p_x_geq_1*100:.2f}%)\")\n"
      ],
      "metadata": {
        "colab": {
          "base_uri": "https://localhost:8080/"
        },
        "id": "qNdWpLlixEqr",
        "outputId": "6515dca9-4162-4407-b93b-a437f6fe93e0"
      },
      "execution_count": 1,
      "outputs": [
        {
          "output_type": "stream",
          "name": "stdout",
          "text": [
            "a) P(X = 2): 0.0746 (7.46%)\n",
            "b) P(X = 0): 0.5987 (59.87%)\n",
            "c) P(X ≥ 1): 0.4013 (40.13%)\n"
          ]
        }
      ]
    },
    {
      "cell_type": "markdown",
      "source": [
        "2)        Considere que um sistema de detecção de mísseis tenha uma probabilidade de 0,9 de identificar um ataque.\n",
        "a.         Se 2 sistemas são instalados e operam de forma independente, qual a probabilidade de pelo menos 1 dos sistemas funcionar?\n",
        "b.         Se 3 sistemas são instalados e operam de forma independente, qual a probabilidade de pelo menos 1 dos sistemas funcionar?\n",
        "c.         Você sugeriria o uso de múltiplos sistemas?\n"
      ],
      "metadata": {
        "id": "ce17pFylxaqF"
      }
    },
    {
      "cell_type": "code",
      "source": [
        "# Probabilidade de um sistema falhar\n",
        "q = 0.1\n",
        "\n",
        "# a) Pelo menos 1 funcionar com 2 sistemas\n",
        "p_x_geq_1_2 = 1 - (q ** 2)\n",
        "\n",
        "# b) Pelo menos 1 funcionar com 3 sistemas\n",
        "p_x_geq_1_3 = 1 - (q ** 3)\n",
        "\n",
        "# Exibir os resultados\n",
        "print(f\"a) Probabilidade de pelo menos 1 sistema funcionar (2 sistemas): {p_x_geq_1_2:.4f} ({p_x_geq_1_2*100:.2f}%)\")\n",
        "print(f\"b) Probabilidade de pelo menos 1 sistema funcionar (3 sistemas): {p_x_geq_1_3:.4f} ({p_x_geq_1_3*100:.2f}%)\")\n"
      ],
      "metadata": {
        "colab": {
          "base_uri": "https://localhost:8080/"
        },
        "id": "RgJcEnXCxeWL",
        "outputId": "43fc6739-108f-4de8-88fa-7c90958f407e"
      },
      "execution_count": 2,
      "outputs": [
        {
          "output_type": "stream",
          "name": "stdout",
          "text": [
            "a) Probabilidade de pelo menos 1 sistema funcionar (2 sistemas): 0.9900 (99.00%)\n",
            "b) Probabilidade de pelo menos 1 sistema funcionar (3 sistemas): 0.9990 (99.90%)\n"
          ]
        }
      ]
    },
    {
      "cell_type": "markdown",
      "source": [
        "Sim! Com 2 sistemas, a chance de detecção já sobe para 99%, e com 3 sistemas, a chance chega a 99,9%. Isso reduz drasticamente a probabilidade de falha, tornando o sistema mais confiável."
      ],
      "metadata": {
        "id": "mAKR7oxxyDna"
      }
    },
    {
      "cell_type": "markdown",
      "source": [
        "3) Na manufatura de um certo artigo, é sabido que 10% dos artigos são defeituosos. Sabendo que esse processo segue uma distribuição binomial, qual é a probabilidade de que uma amostra aleatória de quatro artigos apresente:\n",
        "\n",
        "Nenhum defeituoso ?\n",
        "Um defeituoso ?\n",
        "Um ou mais defeituosos ?\n",
        "Um ou menos defeituoso ?\n",
        "Dois defeituosos ?\n",
        "No máximo dois defeituosos ?\n",
        "No mínimo dois defeituosos ?\n",
        "Não mais que três defeituosos ?\n"
      ],
      "metadata": {
        "id": "_MLj5uVHyK_k"
      }
    },
    {
      "cell_type": "code",
      "source": [
        "import scipy.stats as stats\n",
        "\n",
        "# Definição dos parâmetros\n",
        "n = 4  # tamanho da amostra\n",
        "p = 0.1  # probabilidade de um artigo ser defeituoso\n",
        "\n",
        "# Cálculo das probabilidades usando a distribuição binomial\n",
        "p_x_0 = stats.binom.pmf(0, n, p)  # Nenhum defeituoso\n",
        "p_x_1 = stats.binom.pmf(1, n, p)  # Um defeituoso\n",
        "p_x_geq_1 = 1 - p_x_0             # Um ou mais defeituosos\n",
        "p_x_leq_1 = p_x_0 + p_x_1         # Um ou menos defeituosos\n",
        "p_x_2 = stats.binom.pmf(2, n, p)  # Dois defeituosos\n",
        "p_x_leq_2 = p_x_0 + p_x_1 + p_x_2 # No máximo dois defeituosos\n",
        "p_x_geq_2 = 1 - (p_x_0 + p_x_1)   # No mínimo dois defeituosos\n",
        "p_x_leq_3 = 1 - stats.binom.pmf(4, n, p)  # Não mais que três defeituosos\n",
        "\n",
        "# Exibir os resultados formatados\n",
        "print(f\"Nenhum defeituoso: {p_x_0:.4f} ({p_x_0*100:.2f}%)\")\n",
        "print(f\"Um defeituoso: {p_x_1:.4f} ({p_x_1*100:.2f}%)\")\n",
        "print(f\"Um ou mais defeituosos: {p_x_geq_1:.4f} ({p_x_geq_1*100:.2f}%)\")\n",
        "print(f\"Um ou menos defeituosos: {p_x_leq_1:.4f} ({p_x_leq_1*100:.2f}%)\")\n",
        "print(f\"Dois defeituosos: {p_x_2:.4f} ({p_x_2*100:.2f}%)\")\n",
        "print(f\"No máximo dois defeituosos: {p_x_leq_2:.4f} ({p_x_leq_2*100:.2f}%)\")\n",
        "print(f\"No mínimo dois defeituosos: {p_x_geq_2:.4f} ({p_x_geq_2*100:.2f}%)\")\n",
        "print(f\"Não mais que três defeituosos: {p_x_leq_3:.4f} ({p_x_leq_3*100:.2f}%)\")\n"
      ],
      "metadata": {
        "colab": {
          "base_uri": "https://localhost:8080/"
        },
        "id": "x6E0Nbj1yMoC",
        "outputId": "f2d6b6c9-3234-4f5a-b2b1-c8d0bae45907"
      },
      "execution_count": 3,
      "outputs": [
        {
          "output_type": "stream",
          "name": "stdout",
          "text": [
            "Nenhum defeituoso: 0.6561 (65.61%)\n",
            "Um defeituoso: 0.2916 (29.16%)\n",
            "Um ou mais defeituosos: 0.3439 (34.39%)\n",
            "Um ou menos defeituosos: 0.9477 (94.77%)\n",
            "Dois defeituosos: 0.0486 (4.86%)\n",
            "No máximo dois defeituosos: 0.9963 (99.63%)\n",
            "No mínimo dois defeituosos: 0.0523 (5.23%)\n",
            "Não mais que três defeituosos: 0.9999 (99.99%)\n"
          ]
        }
      ]
    },
    {
      "cell_type": "markdown",
      "source": [
        "4) Um curso de treinamento aumenta a produtividade dos funcionários de uma certa empresa em 80% dos casos. Se dez funcionários são selecionados ao acaso para receber esse treinamento, encontre a probabilidade de: (segundo uma distribuição binomial)\n",
        "\n",
        "Exatamente sete funcionários aumentarem a produtividade;\n",
        "Não mais que oito funcionários aumentarem a produtividade;\n",
        "Pelo menos três funcionários aumentarem a produtividade.\n"
      ],
      "metadata": {
        "id": "xEi4dAUEyzla"
      }
    },
    {
      "cell_type": "code",
      "source": [
        "import scipy.stats as stats\n",
        "\n",
        "# Definição dos parâmetros\n",
        "n = 10   # Número de funcionários treinados\n",
        "p = 0.8  # Probabilidade de um funcionário aumentar a produtividade\n",
        "\n",
        "# Cálculo das probabilidades usando distribuição binomial\n",
        "p_x_7 = stats.binom.pmf(7, n, p)    # Exatamente 7 funcionários aumentarem a produtividade\n",
        "p_x_leq_8 = stats.binom.cdf(8, n, p) # Não mais que 8 funcionários aumentarem a produtividade\n",
        "p_x_geq_3 = 1 - stats.binom.cdf(2, n, p) # Pelo menos 3 funcionários aumentarem a produtividade\n",
        "\n",
        "# Exibir os resultados com resumo formatado\n",
        "resultado_texto = f\"\"\"\n",
        "🔹 **Resumo dos Resultados** 🔹\n",
        "\n",
        "✅ A probabilidade de **exatamente 7 funcionários** aumentarem a produtividade é {p_x_7:.2%}.\n",
        "✅ A probabilidade de **não mais que 8 funcionários** aumentarem a produtividade é {p_x_leq_8:.2%}.\n",
        "✅ A probabilidade de **pelo menos 3 funcionários** aumentarem a produtividade é {p_x_geq_3:.2%}.\n",
        "\"\"\"\n",
        "\n",
        "print(resultado_texto)\n"
      ],
      "metadata": {
        "colab": {
          "base_uri": "https://localhost:8080/"
        },
        "id": "2YqxGp0Wy1A2",
        "outputId": "6ab74419-52e8-46c5-ae22-cc8dc6c026d2"
      },
      "execution_count": 4,
      "outputs": [
        {
          "output_type": "stream",
          "name": "stdout",
          "text": [
            "\n",
            "🔹 **Resumo dos Resultados** 🔹\n",
            "\n",
            "✅ A probabilidade de **exatamente 7 funcionários** aumentarem a produtividade é 20.13%.\n",
            "✅ A probabilidade de **não mais que 8 funcionários** aumentarem a produtividade é 62.42%.\n",
            "✅ A probabilidade de **pelo menos 3 funcionários** aumentarem a produtividade é 99.99%.\n",
            "\n"
          ]
        }
      ]
    },
    {
      "cell_type": "markdown",
      "source": [
        "5) Muitas empresas usam uma técnica de controle de qualidade chamada de amostragem de aceitação para monitorar o carregamento de chegada de peças, matérias-primas e assim por diante. Na indústria eletrônica, as peças de componentes são comumente embarcadas pelos fornecedores em grandes lotes. A inspeção de uma amostra de n componentes pode ser vista como os n ensaios de um experimento binomial. O resultado de cada componente testado (ensaio) será aquele de que um componente é bom ou é defeituoso. A Reynolds Electronics aceita um lote de um determinado fornecedor se os componentes defeituosos em um lote não excedem 1%. Suponha uma amostra aleatória de cinco itens de um recente embarque tenha sido testada.\n",
        "\n",
        "a)   \tAssuma que 1% do embarque seja defeituoso. Calcule a probabilidade de que nenhum item na amostra seja defeituoso.\n",
        "b)  \tAssuma que 1% do embarque seja defeituoso. Calcule a probabilidade de que um item na amostra seja defeituoso.\n",
        "c)   \tQual é a probabilidade de se observar um item ou mais com defeito na amostra se 1% do embarque é defeituoso?\n"
      ],
      "metadata": {
        "id": "7PpP5AR_zGeU"
      }
    },
    {
      "cell_type": "code",
      "source": [
        "import scipy.stats as stats\n",
        "\n",
        "# Definição dos parâmetros\n",
        "n = 5     # Tamanho da amostra\n",
        "p = 0.01  # Probabilidade de um item ser defeituoso (1%)\n",
        "\n",
        "# Cálculo das probabilidades usando a distribuição binomial\n",
        "p_x_0 = stats.binom.pmf(0, n, p)  # Nenhum item defeituoso\n",
        "p_x_1 = stats.binom.pmf(1, n, p)  # Um item defeituoso\n",
        "p_x_geq_1 = 1 - p_x_0             # Um ou mais itens defeituosos (complemento)\n",
        "\n",
        "# Exibir os resultados formatados\n",
        "resultado_texto = f\"\"\"\n",
        "🔹 **Resumo dos Resultados** 🔹\n",
        "\n",
        "✅ A probabilidade de **nenhum item ser defeituoso** é {p_x_0:.2%}.\n",
        "✅ A probabilidade de **um item ser defeituoso** é {p_x_1:.2%}.\n",
        "✅ A probabilidade de **um ou mais itens serem defeituosos** é {p_x_geq_1:.2%}.\n",
        "\"\"\"\n",
        "\n",
        "print(resultado_texto)\n"
      ],
      "metadata": {
        "colab": {
          "base_uri": "https://localhost:8080/"
        },
        "id": "uZ5I8PT_zPZU",
        "outputId": "145a1ac9-2059-42e7-f675-3c9768e740cc"
      },
      "execution_count": 5,
      "outputs": [
        {
          "output_type": "stream",
          "name": "stdout",
          "text": [
            "\n",
            "🔹 **Resumo dos Resultados** 🔹\n",
            "\n",
            "✅ A probabilidade de **nenhum item ser defeituoso** é 95.10%.\n",
            "✅ A probabilidade de **um item ser defeituoso** é 4.80%.\n",
            "✅ A probabilidade de **um ou mais itens serem defeituosos** é 4.90%.\n",
            "\n"
          ]
        }
      ]
    }
  ]
}